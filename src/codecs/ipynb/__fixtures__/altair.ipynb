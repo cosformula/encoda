{
 "cells": [
  {
   "cell_type": "code",
   "execution_count": 1,
   "metadata": {},
   "outputs": [
    {
     "data": {
      "application/vnd.vegalite.v4+json": {
       "$schema": "https://vega.github.io/schema/vega-lite/v4.8.1.json",
       "config": {
        "view": {
         "continuousHeight": 300,
         "continuousWidth": 400
        }
       },
       "data": {
        "name": "data-d747c2d9ea30c4723f5a34d9124b8729"
       },
       "datasets": {
        "data-d747c2d9ea30c4723f5a34d9124b8729": [
         {
          "x": 1,
          "y": 2
         },
         {
          "x": 2,
          "y": 7
         },
         {
          "x": 3,
          "y": 4
         },
         {
          "x": 4,
          "y": 1
         },
         {
          "x": 5,
          "y": 2
         },
         {
          "x": 6,
          "y": 6
         },
         {
          "x": 7,
          "y": 8
         },
         {
          "x": 8,
          "y": 4
         },
         {
          "x": 9,
          "y": 7
         }
        ]
       },
       "encoding": {
        "x": {
         "field": "x",
         "type": "quantitative"
        },
        "y": {
         "field": "y",
         "type": "quantitative"
        }
       },
       "mark": "point"
      },
      "text/plain": [
       "<VegaLite 4 object>\n",
       "\n",
       "If you see this message, it means the renderer has not been properly enabled\n",
       "for the frontend that you are using. For more information, see\n",
       "https://altair-viz.github.io/user_guide/troubleshooting.html\n"
      ]
     },
     "execution_count": 2,
     "metadata": {},
     "output_type": "execute_result"
    }
   ],
   "source": [
    "# Based on https://github.com/altair-viz/altair_notebooks\n",
    "\n",
    "import altair as alt\n",
    "alt.renderers.enable('mimetype')\n",
    "\n",
    "import pandas as pd\n",
    "data = pd.DataFrame({\n",
    "    'x': [1, 2, 3, 4, 5, 6, 7, 8, 9],\n",
    "    'y': [2, 7, 4, 1, 2, 6, 8, 4, 7]\n",
    "})\n",
    "\n",
    "alt.Chart(data).mark_point().encode(\n",
    "    x='x',\n",
    "    y='y'\n",
    ")"
   ]
  }
 ],
 "metadata": {
  "kernelspec": {
   "display_name": "Python 3",
   "language": "python",
   "name": "python3"
  },
  "language_info": {
   "codemirror_mode": {
    "name": "ipython",
    "version": 3
   },
   "file_extension": ".py",
   "mimetype": "text/x-python",
   "name": "python",
   "nbconvert_exporter": "python",
   "pygments_lexer": "ipython3",
   "version": "3.8.5"
  }
 },
 "nbformat": 4,
 "nbformat_minor": 4
}
